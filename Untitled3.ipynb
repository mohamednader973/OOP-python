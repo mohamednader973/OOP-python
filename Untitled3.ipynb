{
  "nbformat": 4,
  "nbformat_minor": 0,
  "metadata": {
    "colab": {
      "name": "Untitled3.ipynb",
      "provenance": [],
      "authorship_tag": "ABX9TyNJHpBw/NtdV2bHo7A7Li1n",
      "include_colab_link": true
    },
    "kernelspec": {
      "name": "python3",
      "display_name": "Python 3"
    }
  },
  "cells": [
    {
      "cell_type": "markdown",
      "metadata": {
        "id": "view-in-github",
        "colab_type": "text"
      },
      "source": [
        "<a href=\"https://colab.research.google.com/github/mohamednader973/OOP-python/blob/main/Untitled3.ipynb\" target=\"_parent\"><img src=\"https://colab.research.google.com/assets/colab-badge.svg\" alt=\"Open In Colab\"/></a>"
      ]
    },
    {
      "cell_type": "markdown",
      "metadata": {
        "id": "2e_4gmZFhF8x"
      },
      "source": [
        "Classes and objects"
      ]
    },
    {
      "cell_type": "code",
      "metadata": {
        "id": "ce1Btw50hFWt"
      },
      "source": [
        "import matplotlib.pyplot as plt\r\n",
        "class Circle:\r\n",
        "  def __init__(self, color, radius):     #constructor\r\n",
        "    self.color=color;\r\n",
        "    self.radius=radius;\r\n",
        "  def Circumference(self):               #method\r\n",
        "    circumference=2*3.14*self.radius\r\n",
        "    return circumference\r\n",
        "  def drawCircle(self):\r\n",
        "    plt.gca().add_patch(plt.Circle((0, 0), radius=self.radius, fc=self.color))\r\n",
        "    plt.axis('scaled')\r\n",
        "    plt.show()  \r\n",
        "\r\n",
        "     \r\n",
        "  \r\n",
        "        "
      ],
      "execution_count": 25,
      "outputs": []
    },
    {
      "cell_type": "code",
      "metadata": {
        "colab": {
          "base_uri": "https://localhost:8080/",
          "height": 316
        },
        "id": "poiYAKwpiWdt",
        "outputId": "76071de1-b22d-4ac9-843a-20e1b6f9fc33"
      },
      "source": [
        "circle1=Circle(\"red\",25)\r\n",
        "circle2=Circle(\"yellow\",80)\r\n",
        "print(circle1.color)\r\n",
        "print(circle2.radius)\r\n",
        "circum=circle1.Circumference()\r\n",
        "print(circum)\r\n",
        "circle1.drawCircle()"
      ],
      "execution_count": 27,
      "outputs": [
        {
          "output_type": "stream",
          "text": [
            "red\n",
            "80\n",
            "157.0\n"
          ],
          "name": "stdout"
        },
        {
          "output_type": "display_data",
          "data": {
            "image/png": "[encoded data removed]",
            "text/plain": [
              "<Figure size 432x288 with 1 Axes>"
            ]
          },
          "metadata": {
            "tags": [],
            "needs_background": "light"
          }
        }
      ]
    },
    {
      "cell_type": "code",
      "metadata": {
        "id": "UaUKw_bQlJt_"
      },
      "source": [
        "class Rectangle:\r\n",
        "  def __init__(self, color,length,width):\r\n",
        "    self.color=color;\r\n",
        "    self.length=length;\r\n",
        "    self.width=width;\r\n",
        "  def Area(self):\r\n",
        "    area=self.length*self.width\r\n",
        "    return area\r\n",
        "  def drawRectangle(self):\r\n",
        "    plt.gca().add_patch(plt.Rectangle((0, 0) ,self.length,self.width ,fc=self.color))\r\n",
        "    plt.axis('scaled')\r\n",
        "    plt.show()\r\n"
      ],
      "execution_count": 33,
      "outputs": []
    },
    {
      "cell_type": "code",
      "metadata": {
        "colab": {
          "base_uri": "https://localhost:8080/",
          "height": 316
        },
        "id": "U1O_IwXklW0X",
        "outputId": "03f4bf08-24a0-4afb-9eae-572419456c3b"
      },
      "source": [
        "rectangle1=Rectangle(\"blue\",12,8)\r\n",
        "rectangle2=Rectangle(\"green\",40,60)\r\n",
        "print(rectangle1.color)\r\n",
        "print(rectangle2.length)\r\n",
        "Ar=rectangle1.Area()\r\n",
        "print(Ar)\r\n",
        "rectangle1.drawRectangle()\r\n"
      ],
      "execution_count": 35,
      "outputs": [
        {
          "output_type": "stream",
          "text": [
            "blue\n",
            "40\n",
            "96\n"
          ],
          "name": "stdout"
        },
        {
          "output_type": "display_data",
          "data": {
            "image/png": "[encoded data removed]",
            "text/plain": [
              "<Figure size 432x288 with 1 Axes>"
            ]
          },
          "metadata": {
            "tags": [],
            "needs_background": "light"
          }
        }
      ]
    },
    {
      "cell_type": "markdown",
      "metadata": {
        "id": "UjLBXnm1vHmN"
      },
      "source": [
        "**Inheritance**"
      ]
    },
    {
      "cell_type": "code",
      "metadata": {
        "id": "jtZEJjdmvL8N"
      },
      "source": [
        "class Car :\r\n",
        "  def __init__(self, color, speed):     #constructor\r\n",
        "    self.color=color;\r\n",
        "    self.speed=speed;\r\n",
        "  def speed_increment(self):\r\n",
        "    NewSpeed=self.speed+10\r\n",
        "    return NewSpeed\r\n"
      ],
      "execution_count": 36,
      "outputs": []
    },
    {
      "cell_type": "code",
      "metadata": {
        "id": "ovh6rfC9wDfG"
      },
      "source": [
        "class motorcycle(Car):\r\n",
        "  pass"
      ],
      "execution_count": 38,
      "outputs": []
    },
    {
      "cell_type": "code",
      "metadata": {
        "colab": {
          "base_uri": "https://localhost:8080/"
        },
        "id": "JxnCmzonwYok",
        "outputId": "6a0fc5a5-8c9e-4c2c-a98d-49290b1060cc"
      },
      "source": [
        "motor1=motorcycle(\"red\",120)\r\n",
        "print(motor1.color)\r\n",
        "print(motor1.speed_increment())"
      ],
      "execution_count": 39,
      "outputs": [
        {
          "output_type": "stream",
          "text": [
            "red\n",
            "130\n"
          ],
          "name": "stdout"
        }
      ]
    },
    {
      "cell_type": "markdown",
      "metadata": {
        "id": "hE1EkSvl0MrU"
      },
      "source": [
        "super():\r\n",
        "a super() function that will make the child class inherit all the methods and properties from its parent:"
      ]
    },
    {
      "cell_type": "code",
      "metadata": {
        "colab": {
          "base_uri": "https://localhost:8080/"
        },
        "id": "3PRtbnjo0Sua",
        "outputId": "d20c0377-e82f-4aba-942c-5f5450893a8b"
      },
      "source": [
        "class aeroplane (Car):\r\n",
        "  def __init__(self, color, speed): \r\n",
        "    super().__init__(color, speed) \r\n",
        "\r\n",
        "aero1=aeroplane(\"red\",140)\r\n",
        "print(aero1.color)\r\n"
      ],
      "execution_count": 52,
      "outputs": [
        {
          "output_type": "stream",
          "text": [
            "red\n"
          ],
          "name": "stdout"
        }
      ]
    },
    {
      "cell_type": "code",
      "metadata": {
        "id": "FHuMT_Vtw4V8"
      },
      "source": [
        "class tractor (Car):\r\n",
        "  def __init__(self, color, speed,enginetype): \r\n",
        "    super().__init__(color, speed)\r\n",
        "    self.enginetype=enginetype\r\n",
        "  \r\n",
        "  def enginetypeprint(self):\r\n",
        "    print(self.enginetype)\r\n",
        "    \r\n"
      ],
      "execution_count": 43,
      "outputs": []
    },
    {
      "cell_type": "code",
      "metadata": {
        "colab": {
          "base_uri": "https://localhost:8080/"
        },
        "id": "2m0LOWYpy2F7",
        "outputId": "1b70d943-efac-4cd4-fa19-f3d33b6c45c6"
      },
      "source": [
        "trac1=tractor(\"yellow\",140,\"k15\")\r\n",
        "trac1.enginetypeprint()"
      ],
      "execution_count": 45,
      "outputs": [
        {
          "output_type": "stream",
          "text": [
            "k15\n"
          ],
          "name": "stdout"
        }
      ]
    },
    {
      "cell_type": "markdown",
      "metadata": {
        "id": "4sng_rIRzmUY"
      },
      "source": [
        "we can also keep the same instructor \r\n",
        "When you add the __init__() function, the child class will no longer inherit the parent's __init__() function.\r\n",
        "\r\n",
        "Note: The child's __init__() function overrides the inheritance of the parent's __init__() function.\r\n",
        "\r\n",
        "To keep the inheritance of the parent's __init__() function, add a call to the parent's __init__() function:"
      ]
    },
    {
      "cell_type": "code",
      "metadata": {
        "colab": {
          "base_uri": "https://localhost:8080/"
        },
        "id": "4KSqCPxW0Af-",
        "outputId": "91512e26-b729-4e06-a25d-7c27c095f5e8"
      },
      "source": [
        "class airjet (Car):\r\n",
        "  def __init__(self, color, speed): \r\n",
        "    Car.__init__(self,color, speed) \r\n",
        "\r\n",
        "airjet1=airjet(\"grey\",167)\r\n",
        "print(airjet1.speed)"
      ],
      "execution_count": 53,
      "outputs": [
        {
          "output_type": "stream",
          "text": [
            "167\n"
          ],
          "name": "stdout"
        }
      ]
    }
  ]
}